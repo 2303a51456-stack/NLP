{
  "nbformat": 4,
  "nbformat_minor": 0,
  "metadata": {
    "colab": {
      "provenance": []
    },
    "kernelspec": {
      "name": "python3",
      "display_name": "Python 3"
    },
    "language_info": {
      "name": "python"
    }
  },
  "cells": [
    {
      "cell_type": "markdown",
      "source": [
        "Load the dataset and display:"
      ],
      "metadata": {
        "id": "hukxKz4g5icr"
      }
    },
    {
      "cell_type": "code",
      "execution_count": null,
      "metadata": {
        "id": "VIGVlq5Z5O9O"
      },
      "outputs": [],
      "source": [
        "import pandas as pd"
      ]
    },
    {
      "cell_type": "code",
      "source": [
        "# Simulated dataset of complaints\n",
        "data = {\n",
        "    \"complaint_text\": [\n",
        "        \"I have been charged twice for the same transaction!\",\n",
        "        \"My credit card application was denied without explanation.\",\n",
        "        \"They keep calling me even after I asked them to stop.\",\n",
        "        \"The loan officer was rude and unhelpful.\",\n",
        "        \"I was promised a refund but never received it.\",\n",
        "        \"My account was frozen without prior notice.\",\n",
        "        \"Unauthorized transactions appeared on my debit card.\",\n",
        "        \"Customer service did not resolve my issue.\",\n",
        "        \"The website is always down when I try to log in.\",\n",
        "        \"They reported incorrect information to the credit bureau.\",\n",
        "        \"I can’t access my account online.\",\n",
        "        \"Received a late fee even though I paid on time.\",\n",
        "        \"My mortgage payment was misapplied to another account.\",\n",
        "        \"Their representative hung up on me.\",\n",
        "        \"Hidden charges keep showing up on my bill.\",\n",
        "        \"I was threatened with legal action for a debt I don’t owe.\",\n",
        "        \"No one responds to my emails or calls.\",\n",
        "        \"They keep sending me unwanted promotional offers.\",\n",
        "        \"My balance is incorrect despite multiple complaints.\",\n",
        "        \"The ATM swallowed my card and I never got it back.\",\n",
        "        \"Bank refused to reverse a fraudulent charge.\",\n",
        "        \"The mobile app crashes constantly.\",\n",
        "        \"Interest rates were changed without informing me.\",\n",
        "        \"I never authorized this loan.\",\n",
        "        \"The overdraft fees are unfair and excessive.\"\n",
        "    ]\n",
        "}"
      ],
      "metadata": {
        "id": "DzqHsfHp5aUO"
      },
      "execution_count": null,
      "outputs": []
    },
    {
      "cell_type": "code",
      "source": [
        "df = pd.DataFrame(data)\n",
        "print(df.head(25))"
      ],
      "metadata": {
        "colab": {
          "base_uri": "https://localhost:8080/"
        },
        "id": "VfS_dznB5rbL",
        "outputId": "d4ef9c41-8778-4f06-8b88-a69298fda9de"
      },
      "execution_count": null,
      "outputs": [
        {
          "output_type": "stream",
          "name": "stdout",
          "text": [
            "                                       complaint_text\n",
            "0   I have been charged twice for the same transac...\n",
            "1   My credit card application was denied without ...\n",
            "2   They keep calling me even after I asked them t...\n",
            "3            The loan officer was rude and unhelpful.\n",
            "4      I was promised a refund but never received it.\n",
            "5         My account was frozen without prior notice.\n",
            "6   Unauthorized transactions appeared on my debit...\n",
            "7          Customer service did not resolve my issue.\n",
            "8    The website is always down when I try to log in.\n",
            "9   They reported incorrect information to the cre...\n",
            "10                  I can’t access my account online.\n",
            "11    Received a late fee even though I paid on time.\n",
            "12  My mortgage payment was misapplied to another ...\n",
            "13                Their representative hung up on me.\n",
            "14         Hidden charges keep showing up on my bill.\n",
            "15  I was threatened with legal action for a debt ...\n",
            "16             No one responds to my emails or calls.\n",
            "17  They keep sending me unwanted promotional offers.\n",
            "18  My balance is incorrect despite multiple compl...\n",
            "19  The ATM swallowed my card and I never got it b...\n",
            "20       Bank refused to reverse a fraudulent charge.\n",
            "21                 The mobile app crashes constantly.\n",
            "22  Interest rates were changed without informing me.\n",
            "23                      I never authorized this loan.\n",
            "24       The overdraft fees are unfair and excessive.\n"
          ]
        }
      ]
    },
    {
      "cell_type": "code",
      "source": [
        "df[\"char_count\"] = df[\"complaint_text\"].apply(len)\n",
        "df[\"word_count\"] = df[\"complaint_text\"].apply(lambda x: len(x.split()))\n",
        "\n",
        "print(df[[\"complaint_text\", \"char_count\", \"word_count\"]].head(25))\n",
        "import nltk"
      ],
      "metadata": {
        "colab": {
          "base_uri": "https://localhost:8080/"
        },
        "id": "e3TZrGSg6BLx",
        "outputId": "820d5d65-8b05-4dbe-86e4-d7a66541c6ae"
      },
      "execution_count": null,
      "outputs": [
        {
          "output_type": "stream",
          "name": "stdout",
          "text": [
            "                                       complaint_text  char_count  word_count\n",
            "0   I have been charged twice for the same transac...          51           9\n",
            "1   My credit card application was denied without ...          58           8\n",
            "2   They keep calling me even after I asked them t...          53          11\n",
            "3            The loan officer was rude and unhelpful.          40           7\n",
            "4      I was promised a refund but never received it.          46           9\n",
            "5         My account was frozen without prior notice.          43           7\n",
            "6   Unauthorized transactions appeared on my debit...          52           7\n",
            "7          Customer service did not resolve my issue.          42           7\n",
            "8    The website is always down when I try to log in.          48          11\n",
            "9   They reported incorrect information to the cre...          57           8\n",
            "10                  I can’t access my account online.          33           6\n",
            "11    Received a late fee even though I paid on time.          47          10\n",
            "12  My mortgage payment was misapplied to another ...          54           8\n",
            "13                Their representative hung up on me.          35           6\n",
            "14         Hidden charges keep showing up on my bill.          42           8\n",
            "15  I was threatened with legal action for a debt ...          58          12\n",
            "16             No one responds to my emails or calls.          38           8\n",
            "17  They keep sending me unwanted promotional offers.          49           7\n",
            "18  My balance is incorrect despite multiple compl...          52           7\n",
            "19  The ATM swallowed my card and I never got it b...          50          11\n",
            "20       Bank refused to reverse a fraudulent charge.          44           7\n",
            "21                 The mobile app crashes constantly.          34           5\n",
            "22  Interest rates were changed without informing me.          49           7\n",
            "23                      I never authorized this loan.          29           5\n",
            "24       The overdraft fees are unfair and excessive.          44           7\n"
          ]
        }
      ]
    },
    {
      "cell_type": "markdown",
      "source": [
        "Q2. Apply the following pipeline using SpaCY:\n",
        "\n"
      ],
      "metadata": {
        "id": "Vh-Q4nNr6OLy"
      }
    },
    {
      "cell_type": "code",
      "source": [
        "# Download tokenizer + tagger models for new NLTK\n",
        "import spacy\n",
        "import matplotlib.pyplot as plt\n",
        "\n",
        "nltk.download(\"punkt\")\n",
        "nltk.download(\"averaged_perceptron_tagger\")\n",
        "\n",
        "from nltk import word_tokenize, pos_tag\n",
        "from collections import Counter"
      ],
      "metadata": {
        "colab": {
          "base_uri": "https://localhost:8080/"
        },
        "id": "kpBhq09q6Q0z",
        "outputId": "45f8a640-a25e-4121-ceae-21562ac8466d"
      },
      "execution_count": null,
      "outputs": [
        {
          "output_type": "stream",
          "name": "stderr",
          "text": [
            "[nltk_data] Downloading package punkt to /root/nltk_data...\n",
            "[nltk_data]   Package punkt is already up-to-date!\n",
            "[nltk_data] Downloading package averaged_perceptron_tagger to\n",
            "[nltk_data]     /root/nltk_data...\n",
            "[nltk_data]   Package averaged_perceptron_tagger is already up-to-\n",
            "[nltk_data]       date!\n"
          ]
        }
      ]
    },
    {
      "cell_type": "code",
      "source": [
        "all_tags = []\n",
        "\n",
        "for text in df[\"complaint_text\"]:\n",
        "    tokens = word_tokenize(text)\n",
        "    tagged = pos_tag(tokens)   # (word, POS_tag)\n",
        "    tags = [t[1] for t in tagged]  # only POS tags\n",
        "    all_tags.extend(tags)\n",
        "    tag_freq = Counter(all_tags)\n",
        "print(\"Top POS tags (NLTK):\", tag_freq.most_common(10))\n"
      ],
      "metadata": {
        "colab": {
          "base_uri": "https://localhost:8080/"
        },
        "id": "MNYKhpAZ6cuj",
        "outputId": "36ff95bf-8e41-4739-cd99-cdddfbf75afd"
      },
      "execution_count": null,
      "outputs": [
        {
          "output_type": "stream",
          "name": "stdout",
          "text": [
            "Top POS tags (NLTK): [('NN', 41), ('.', 25), ('PRP', 20), ('JJ', 18), ('VBD', 17), ('IN', 14), ('DT', 14), ('PRP$', 11), ('RB', 10), ('NNS', 9)]\n"
          ]
        }
      ]
    },
    {
      "cell_type": "code",
      "source": [
        "nlp = spacy.load(\"en_core_web_sm\")\n",
        "verbs = []\n",
        "adjs = []\n",
        "for doc in nlp.pipe(df[\"complaint_text\"], disable=[\"ner\"]):\n",
        "    for token in doc:\n",
        "        if token.pos_ == \"VERB\":\n",
        "            verbs.append(token.lemma_)\n",
        "        elif token.pos_ == \"ADJ\":\n",
        "            adjs.append(token.lemma_)\n",
        "verb_freq = Counter(verbs).most_common(10)\n",
        "adj_freq = Counter(adjs).most_common(10)\n",
        "\n",
        "print(\"Top Verbs:\", verb_freq)\n",
        "print(\"Top Adjectives:\", adj_freq)"
      ],
      "metadata": {
        "colab": {
          "base_uri": "https://localhost:8080/"
        },
        "id": "E_TBvFDC7Rbz",
        "outputId": "8386f915-973a-4a9a-cc96-b5cbe930c1d5"
      },
      "execution_count": null,
      "outputs": [
        {
          "output_type": "stream",
          "name": "stdout",
          "text": [
            "Top Verbs: [('keep', 3), ('receive', 2), ('charge', 1), ('deny', 1), ('call', 1), ('ask', 1), ('stop', 1), ('promise', 1), ('freeze', 1), ('appear', 1)]\n",
            "Top Adjectives: [('incorrect', 2), ('same', 1), ('rude', 1), ('unhelpful', 1), ('prior', 1), ('unauthorized', 1), ('late', 1), ('hidden', 1), ('legal', 1), ('unwanted', 1)]\n"
          ]
        }
      ]
    },
    {
      "cell_type": "code",
      "source": [
        "\n",
        "# Visualization\n",
        "plt.bar([x[0] for x in verb_freq], [x[1] for x in verb_freq])\n",
        "plt.title(\"Top 10 Verbs in Complaints\")\n",
        "plt.show()\n",
        "\n",
        "plt.bar([x[0] for x in adj_freq], [x[1] for x in adj_freq])\n",
        "plt.title(\"Top 10 Adjectives in Complaints\")\n",
        "plt.show()\n",
        "import re\n",
        "\n",
        "texts = [\n",
        "    \"My phone number is 1234567890 and my email is test@domain.com\",\n",
        "    \"Visit https://example.com for more info!!!\",\n",
        "    \"HELLO!!! This is SOOOOO exciting :))\",\n",
        "    \"Contact us at info@company.org or call +91 98765-43210\",\n",
        "    \"Python's regex is very useful!!!  #Coding #Fun\"\n",
        "]\n"
      ],
      "metadata": {
        "colab": {
          "base_uri": "https://localhost:8080/",
          "height": 887
        },
        "id": "VCC9uKrP7jNb",
        "outputId": "fd38fab4-e582-4274-fd50-5c8cb7f8e0d7"
      },
      "execution_count": null,
      "outputs": [
        {
          "output_type": "display_data",
          "data": {
            "text/plain": [
              "<Figure size 640x480 with 1 Axes>"
            ],
            "image/png": "[encoded data removed]"
          },
          "metadata": {}
        },
        {
          "output_type": "display_data",
          "data": {
            "text/plain": [
              "<Figure size 640x480 with 1 Axes>"
            ],
            "image/png": "[encoded data removed]"
          },
          "metadata": {}
        }
      ]
    },
    {
      "cell_type": "code",
      "source": [
        "\n",
        "cleaned_texts = []\n",
        "\n",
        "for t in texts:\n",
        "    # Remove phone numbers\n",
        "    t = re.sub(r'\\+?\\d[\\d\\-\\s]{8,}\\d', ' ', t)\n",
        "    # Remove emails\n",
        "    t = re.sub(r'\\S+@\\S+', ' ', t)\n",
        "    # Remove URLs\n",
        "    t = re.sub(r'http\\S+|www\\S+', ' ', t)\n",
        "    # Remove special characters (keep words and spaces)\n",
        "    t = re.sub(r'[^a-zA-Z\\s]', ' ', t)\n",
        "    # Normalize spaces\n",
        "    t = re.sub(r'\\s+', ' ', t).strip()\n",
        "    cleaned_texts.append(t)\n",
        "\n",
        "print(\"\\nCleaned Texts:\")\n",
        "for ct in cleaned_texts:\n",
        "    print(ct)"
      ],
      "metadata": {
        "colab": {
          "base_uri": "https://localhost:8080/"
        },
        "id": "ovC73xjo7oUj",
        "outputId": "31ead81d-94ed-48a2-b9ec-23cf39974800"
      },
      "execution_count": null,
      "outputs": [
        {
          "output_type": "stream",
          "name": "stdout",
          "text": [
            "\n",
            "Cleaned Texts:\n",
            "My phone number is and my email is\n",
            "Visit for more info\n",
            "HELLO This is SOOOOO exciting\n",
            "Contact us at or call\n",
            "Python s regex is very useful Coding Fun\n"
          ]
        }
      ]
    }
  ]
}