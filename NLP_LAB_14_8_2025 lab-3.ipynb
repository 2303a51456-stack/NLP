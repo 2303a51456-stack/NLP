{
  "nbformat": 4,
  "nbformat_minor": 0,
  "metadata": {
    "colab": {
      "provenance": []
    },
    "kernelspec": {
      "name": "python3",
      "display_name": "Python 3"
    },
    "language_info": {
      "name": "python"
    }
  },
  "cells": [
    {
      "cell_type": "code",
      "execution_count": 1,
      "metadata": {
        "colab": {
          "base_uri": "https://localhost:8080/"
        },
        "id": "yuszQZsKQLgr",
        "outputId": "28dce3f9-a452-4527-fbd9-900b03a225e4"
      },
      "outputs": [
        {
          "output_type": "stream",
          "name": "stdout",
          "text": [
            "                                       complaint_text\n",
            "0   I was charged an overdraft fee even though I h...\n",
            "1   The loan officer misled me about my mortgage t...\n",
            "2   My credit card payment was posted late and I g...\n",
            "3            Customer service was rude and unhelpful.\n",
            "4         The bank closed my account without warning.\n",
            "5   I received calls every day about a debt I do n...\n",
            "6   They promised me 0% APR but I was charged inte...\n",
            "7   The app keeps crashing when I try to make a pa...\n",
            "8   My check was held for over 10 days without rea...\n",
            "9   Unauthorized transactions appeared on my account.\n",
            "10  The interest rate was increased without any no...\n",
            "11  I was denied a loan even though I meet all req...\n",
            "12     They keep sending me offers I never requested.\n",
            "13  The online portal is extremely slow and confus...\n",
            "14  I was charged for a late fee even though I pai...\n",
            "15  Fraudulent activity was not resolved by the bank.\n",
            "16    They keep losing my documents and asking again.\n",
            "17  The credit bureau reported incorrect information.\n",
            "18  Customer support keeps transferring me without...\n",
            "19         Hidden charges were applied to my account.\n",
            "20  I received a foreclosure notice without any ex...\n",
            "21  The mobile banking app doesn’t recognize my lo...\n",
            "22  They rejected my dispute claim without investi...\n",
            "23      I was charged twice for the same transaction.\n",
            "24  The loan processing took over 3 months unneces...\n",
            "                                       complaint_text  num_chars  num_words\n",
            "0   I was charged an overdraft fee even though I h...         69         14\n",
            "1   The loan officer misled me about my mortgage t...         51          9\n",
            "2   My credit card payment was posted late and I g...         59         12\n",
            "3            Customer service was rude and unhelpful.         40          6\n",
            "4         The bank closed my account without warning.         43          7\n",
            "5   I received calls every day about a debt I do n...         53         12\n",
            "6   They promised me 0% APR but I was charged inte...         51         10\n",
            "7   The app keeps crashing when I try to make a pa...         52         11\n",
            "8   My check was held for over 10 days without rea...         50         10\n",
            "9   Unauthorized transactions appeared on my account.         49          6\n",
            "10  The interest rate was increased without any no...         51          8\n",
            "11  I was denied a loan even though I meet all req...         56         11\n",
            "12     They keep sending me offers I never requested.         46          8\n",
            "13  The online portal is extremely slow and confus...         50          8\n",
            "14  I was charged for a late fee even though I pai...         56         13\n",
            "15  Fraudulent activity was not resolved by the bank.         49          8\n",
            "16    They keep losing my documents and asking again.         47          8\n",
            "17  The credit bureau reported incorrect information.         49          6\n",
            "18  Customer support keeps transferring me without...         64          9\n",
            "19         Hidden charges were applied to my account.         42          7\n",
            "20  I received a foreclosure notice without any ex...         56          8\n",
            "21  The mobile banking app doesn’t recognize my lo...         50          8\n",
            "22  They rejected my dispute claim without investi...         53          7\n",
            "23      I was charged twice for the same transaction.         45          8\n",
            "24  The loan processing took over 3 months unneces...         53          8\n"
          ]
        }
      ],
      "source": [
        "import pandas as pd\n",
        "\n",
        "\n",
        "data = {\n",
        "    \"complaint_text\": [\n",
        "        \"I was charged an overdraft fee even though I had money in my account.\",\n",
        "        \"The loan officer misled me about my mortgage terms.\",\n",
        "        \"My credit card payment was posted late and I got a penalty.\",\n",
        "        \"Customer service was rude and unhelpful.\",\n",
        "        \"The bank closed my account without warning.\",\n",
        "        \"I received calls every day about a debt I do not owe.\",\n",
        "        \"They promised me 0% APR but I was charged interest.\",\n",
        "        \"The app keeps crashing when I try to make a payment.\",\n",
        "        \"My check was held for over 10 days without reason.\",\n",
        "        \"Unauthorized transactions appeared on my account.\",\n",
        "        \"The interest rate was increased without any notice.\",\n",
        "        \"I was denied a loan even though I meet all requirements.\",\n",
        "        \"They keep sending me offers I never requested.\",\n",
        "        \"The online portal is extremely slow and confusing.\",\n",
        "        \"I was charged for a late fee even though I paid on time.\",\n",
        "        \"Fraudulent activity was not resolved by the bank.\",\n",
        "        \"They keep losing my documents and asking again.\",\n",
        "        \"The credit bureau reported incorrect information.\",\n",
        "        \"Customer support keeps transferring me without solving my issue.\",\n",
        "        \"Hidden charges were applied to my account.\",\n",
        "        \"I received a foreclosure notice without any explanation.\",\n",
        "        \"The mobile banking app doesn’t recognize my login.\",\n",
        "        \"They rejected my dispute claim without investigating.\",\n",
        "        \"I was charged twice for the same transaction.\",\n",
        "        \"The loan processing took over 3 months unnecessarily.\"\n",
        "    ]\n",
        "}\n",
        "\n",
        "df = pd.DataFrame(data)\n",
        "\n",
        "\n",
        "print(df.head(25))\n",
        "\n",
        "df[\"num_chars\"] = df[\"complaint_text\"].apply(len)\n",
        "df[\"num_words\"] = df[\"complaint_text\"].apply(lambda x: len(x.split()))\n",
        "\n",
        "print(df[[\"complaint_text\", \"num_chars\", \"num_words\"]].head(25))\n"
      ]
    },
    {
      "cell_type": "code",
      "source": [
        "\n",
        "\n",
        "import nltk\n",
        "\n",
        "# Download resources for all versions\n",
        "nltk.download(\"punkt\")\n",
        "nltk.download(\"punkt_tab\")\n",
        "nltk.download(\"averaged_perceptron_tagger\")\n",
        "nltk.download(\"averaged_perceptron_tagger_eng\")  # <-- new required one\n",
        "\n",
        "\n",
        "# Tokenization + POS tagging\n",
        "df[\"tokens_nltk\"] = df[\"complaint_text\"].apply(word_tokenize)\n",
        "df[\"pos_tags\"] = df[\"tokens_nltk\"].apply(pos_tag)\n",
        "\n",
        "# Count POS tag frequencies\n",
        "pos_counts = Counter()\n",
        "for tags in df[\"pos_tags\"]:\n",
        "    for _, tag in tags:\n",
        "        pos_counts[tag] += 1\n",
        "\n",
        "print(\"Top POS tags (NLTK):\")\n",
        "print(pos_counts.most_common(10))\n",
        "\n"
      ],
      "metadata": {
        "colab": {
          "base_uri": "https://localhost:8080/"
        },
        "id": "_qwuIZcFQcZk",
        "outputId": "ea6ebd0f-9deb-487e-d1a4-ee630460790e"
      },
      "execution_count": 5,
      "outputs": [
        {
          "output_type": "stream",
          "name": "stderr",
          "text": [
            "[nltk_data] Downloading package punkt to /root/nltk_data...\n",
            "[nltk_data]   Package punkt is already up-to-date!\n",
            "[nltk_data] Downloading package punkt_tab to /root/nltk_data...\n",
            "[nltk_data]   Package punkt_tab is already up-to-date!\n",
            "[nltk_data] Downloading package averaged_perceptron_tagger to\n",
            "[nltk_data]     /root/nltk_data...\n",
            "[nltk_data]   Package averaged_perceptron_tagger is already up-to-\n",
            "[nltk_data]       date!\n",
            "[nltk_data] Downloading package averaged_perceptron_tagger_eng to\n",
            "[nltk_data]     /root/nltk_data...\n",
            "[nltk_data]   Unzipping taggers/averaged_perceptron_tagger_eng.zip.\n"
          ]
        },
        {
          "output_type": "stream",
          "name": "stdout",
          "text": [
            "Top POS tags (NLTK):\n",
            "[('NN', 50), ('.', 25), ('VBD', 23), ('PRP', 22), ('DT', 21), ('IN', 19), ('JJ', 12), ('RB', 11), ('PRP$', 11), ('VBN', 10)]\n"
          ]
        }
      ]
    },
    {
      "cell_type": "code",
      "source": [
        "import spacy\n",
        "import matplotlib.pyplot as plt\n",
        "\n",
        "nlp = spacy.load(\"en_core_web_sm\")\n",
        "\n",
        "\n",
        "df[\"doc_spacy\"] = df[\"complaint_text\"].apply(nlp)\n",
        "\n",
        "\n",
        "df[\"verbs\"] = df[\"doc_spacy\"].apply(lambda doc: [token.text for token in doc if token.pos_ == \"VERB\"])\n",
        "df[\"adjectives\"] = df[\"doc_spacy\"].apply(lambda doc: [token.text for token in doc if token.pos_ == \"ADJ\"])\n",
        "\n",
        "\n",
        "pos_freq_spacy = Counter()\n",
        "for doc in df[\"doc_spacy\"]:\n",
        "    pos_freq_spacy.update([token.pos_ for token in doc])\n",
        "\n",
        "\n",
        "plt.figure(figsize=(8,5))\n",
        "plt.bar(pos_freq_spacy.keys(), pos_freq_spacy.values())\n",
        "plt.title(\"POS Tag Frequency (spaCy)\")\n",
        "plt.xlabel(\"POS Tags\")\n",
        "plt.ylabel(\"Count\")\n",
        "plt.show()\n"
      ],
      "metadata": {
        "colab": {
          "base_uri": "https://localhost:8080/",
          "height": 487
        },
        "id": "9LyTZ5bDQgbx",
        "outputId": "58afb5a2-44c5-4cf4-e1fe-8b11e10a745d"
      },
      "execution_count": 6,
      "outputs": [
        {
          "output_type": "display_data",
          "data": {
            "text/plain": [
              "<Figure size 800x500 with 1 Axes>"
            ],
            "image/png": "[encoded data removed]"
          },
          "metadata": {}
        }
      ]
    },
    {
      "cell_type": "code",
      "source": [
        "import re\n",
        "\n",
        "texts = [\n",
        "    \"My phone number is 1234567890 and my email is test@domain.com\",\n",
        "    \"Visit https://example.com for more info!!!\",\n",
        "    \"HELLO!!! This is SOOOOO exciting :))\",\n",
        "    \"Contact us at info@company.org or call +91 98765-43210\",\n",
        "    \"Python's regex is very useful!!!  #Coding #Fun\"\n",
        "]\n",
        "\n",
        "cleaned = []\n",
        "for t in texts:\n",
        "\n",
        "    t = re.sub(r\"\\+?\\d[\\d\\-\\s]{8,}\\d\", \" \", t)\n",
        "    # Remove emails\n",
        "    t = re.sub(r\"\\b[\\w\\.-]+?@\\w+?\\.\\w+?\\b\", \" \", t)\n",
        "\n",
        "    t = re.sub(r\"http\\S+|www\\.\\S+\", \" \", t)\n",
        "\n",
        "    t = re.sub(r\"[^A-Za-z0-9\\s]\", \" \", t)\n",
        "\n",
        "    t = re.sub(r\"\\s+\", \" \", t).strip()\n",
        "    cleaned.append(t)\n",
        "\n",
        "for before, after in zip(texts, cleaned):\n",
        "    print(f\"Before: {before}\\nAfter : {after}\\n\")\n"
      ],
      "metadata": {
        "colab": {
          "base_uri": "https://localhost:8080/"
        },
        "id": "-mYcdWE0Qk3H",
        "outputId": "aaaf0799-417b-45ea-f155-bf6f7291d3cb"
      },
      "execution_count": 7,
      "outputs": [
        {
          "output_type": "stream",
          "name": "stdout",
          "text": [
            "Before: My phone number is 1234567890 and my email is test@domain.com\n",
            "After : My phone number is and my email is\n",
            "\n",
            "Before: Visit https://example.com for more info!!!\n",
            "After : Visit for more info\n",
            "\n",
            "Before: HELLO!!! This is SOOOOO exciting :))\n",
            "After : HELLO This is SOOOOO exciting\n",
            "\n",
            "Before: Contact us at info@company.org or call +91 98765-43210\n",
            "After : Contact us at or call\n",
            "\n",
            "Before: Python's regex is very useful!!!  #Coding #Fun\n",
            "After : Python s regex is very useful Coding Fun\n",
            "\n"
          ]
        }
      ]
    }
  ]
}