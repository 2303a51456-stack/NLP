{
  "nbformat": 4,
  "nbformat_minor": 0,
  "metadata": {
    "colab": {
      "provenance": []
    },
    "kernelspec": {
      "name": "python3",
      "display_name": "Python 3"
    },
    "language_info": {
      "name": "python"
    }
  },
  "cells": [
    {
      "cell_type": "markdown",
      "source": [
        "Section A: Load & Explore (10 marks)\n",
        "Q1. Dataset Exploration"
      ],
      "metadata": {
        "id": "Rg65U9--G4bF"
      }
    },
    {
      "cell_type": "code",
      "execution_count": null,
      "metadata": {
        "id": "Lt2b3OjOFGg_"
      },
      "outputs": [],
      "source": [
        "import re, string\n",
        "import numpy as np\n",
        "import pandas as pd\n",
        "import matplotlib.pyplot as plt\n",
        "import seaborn as sns\n",
        "\n"
      ]
    },
    {
      "cell_type": "code",
      "source": [
        "\n",
        "df = pd.read_csv('/tweets.csv')"
      ],
      "metadata": {
        "id": "OZQf2EdRFcFO"
      },
      "execution_count": null,
      "outputs": []
    },
    {
      "cell_type": "code",
      "source": [
        "label_counts = df['target'].value_counts()\n",
        "print(label_counts)"
      ],
      "metadata": {
        "colab": {
          "base_uri": "https://localhost:8080/"
        },
        "id": "P6PNUPWtGkOt",
        "outputId": "58d009d8-07f2-490b-c352-781f11326004"
      },
      "execution_count": null,
      "outputs": [
        {
          "output_type": "stream",
          "name": "stdout",
          "text": [
            "target\n",
            "0    9256\n",
            "1    2114\n",
            "Name: count, dtype: int64\n"
          ]
        }
      ]
    },
    {
      "cell_type": "code",
      "source": [
        "sns.barplot(x=label_counts.index, y=label_counts.values)\n",
        "plt.xlabel('Label')\n",
        "plt.ylabel('Number of Tweets')\n",
        "plt.title('Number of tweets per label')\n",
        "plt.show()"
      ],
      "metadata": {
        "colab": {
          "base_uri": "https://localhost:8080/",
          "height": 472
        },
        "id": "5di-JTcfGq3r",
        "outputId": "1418e698-d535-4632-cff6-db6e8ffe29c2"
      },
      "execution_count": null,
      "outputs": [
        {
          "output_type": "display_data",
          "data": {
            "text/plain": [
              "<Figure size 640x480 with 1 Axes>"
            ],
            "image/png": "[encoded data removed]"
          },
          "metadata": {}
        }
      ]
    },
    {
      "cell_type": "code",
      "source": [
        "for label in [0, 1]:\n",
        "    print(f\"\\nLabel {label}:\")\n",
        "    print(df[df['target'] == label][['text']].sample(5))"
      ],
      "metadata": {
        "colab": {
          "base_uri": "https://localhost:8080/"
        },
        "id": "AegjtcOZGu_w",
        "outputId": "d1025da3-dafa-492e-f186-6d49dab40d7b"
      },
      "execution_count": null,
      "outputs": [
        {
          "output_type": "stream",
          "name": "stdout",
          "text": [
            "\n",
            "Label 0:\n",
            "                                                   text\n",
            "876   Why are we not hiring every large water carryi...\n",
            "1083   Like , I'm really talking about blending genera…\n",
            "1576  NATO...Bombed...Libya...Statehood...Russia...F...\n",
            "9405  The new baby arrives in a snowstorm. Weighing ...\n",
            "2085  Energetic and Comedic Redhead Teen, just seen ...\n",
            "\n",
            "Label 1:\n",
            "                                                   text\n",
            "4324  SIGN: Justice for Dog Tied to Rock and Dumped ...\n",
            "9719  75 buses and 20 ambulances of refugees, mostly...\n",
            "9793  14/1/1942 This day 1942 British tug Mercia min...\n",
            "3746  Hi Lisa, I'm very sorry about this, a freight ...\n",
            "9896  Locals residing at the foot of Taal Volcano we...\n"
          ]
        }
      ]
    },
    {
      "cell_type": "markdown",
      "source": [
        "Section B: Text Preprocessing Pipeline\n",
        "Q2. Text Cleaning Pipeline"
      ],
      "metadata": {
        "id": "twGicNPuG6ha"
      }
    },
    {
      "cell_type": "code",
      "source": [
        "import re\n",
        "import nltk\n",
        "nltk.download('punkt')\n",
        "nltk.download('stopwords')\n",
        "nltk.download('punkt_tab')\n",
        "nltk.download('wordnet')\n",
        "from nltk.corpus import stopwords\n",
        "from nltk.stem import PorterStemmer, WordNetLemmatizer\n",
        "\n",
        "stop_words = set(stopwords.words('english')) # Moved this line here"
      ],
      "metadata": {
        "colab": {
          "base_uri": "https://localhost:8080/"
        },
        "id": "oIVgkNmBHDXM",
        "outputId": "e5bf974f-ac12-4a87-cab2-ac979259cbb0"
      },
      "execution_count": null,
      "outputs": [
        {
          "output_type": "stream",
          "name": "stderr",
          "text": [
            "[nltk_data] Downloading package punkt to /root/nltk_data...\n",
            "[nltk_data]   Package punkt is already up-to-date!\n",
            "[nltk_data] Downloading package stopwords to /root/nltk_data...\n",
            "[nltk_data]   Package stopwords is already up-to-date!\n",
            "[nltk_data] Downloading package punkt_tab to /root/nltk_data...\n",
            "[nltk_data]   Package punkt_tab is already up-to-date!\n",
            "[nltk_data] Downloading package wordnet to /root/nltk_data...\n",
            "[nltk_data]   Package wordnet is already up-to-date!\n"
          ]
        }
      ]
    },
    {
      "cell_type": "code",
      "source": [
        "stop_words = set(stopwords.words('english'))\n",
        "punct_tbl = str.maketrans('', '', string.punctuation)\n",
        "\n",
        "url_pat = re.compile(r'https?://\\S+|www\\.\\S+')\n",
        "mention_pat = re.compile(r'@\\w+')\n",
        "hashtag_pat = re.compile(r'#\\w+')\n",
        "\n",
        "def clean_text(s: str) -> str:\n",
        "    s = url_pat.sub(' ', s)\n",
        "    s = mention_pat.sub(' ', s)\n",
        "    s = hashtag_pat.sub(' ', s)\n",
        "    s = s.lower()\n",
        "    s = s.translate(punct_tbl)\n",
        "    s = re.sub(r'\\s+', ' ', s).strip()\n",
        "    return s\n",
        "\n",
        "def tokenize_remove_stopwords(s: str):\n",
        "    tokens = word_tokenize(s)\n",
        "    tokens = [t for t in tokens if t not in stop_words and t.isalpha()]\n",
        "    return tokens\n",
        "\n",
        "# Store intermediate steps for later comparisons\n",
        "df['clean_text'] = df['text'].astype(str).apply(clean_text)\n",
        "df['tokens'] = df['clean_text'].apply(tokenize_remove_stopwords)\n"
      ],
      "metadata": {
        "id": "cE0dM-3Ki_gn"
      },
      "execution_count": null,
      "outputs": []
    },
    {
      "cell_type": "markdown",
      "source": [
        "\n",
        "Q3. Stemming vs Lemmatization\n",
        "\n"
      ],
      "metadata": {
        "id": "W0VAyHWudjAx"
      }
    },
    {
      "cell_type": "code",
      "source": [
        "ps = PorterStemmer()\n",
        "wnl = WordNetLemmatizer()\n",
        "\n",
        "def stem_tokens(tokens):\n",
        "    return [ps.stem(t) for t in tokens]\n",
        "\n",
        "def lemma_tokens(tokens):\n",
        "    return [wnl.lemmatize(t) for t in tokens]\n",
        "\n",
        "sample_for_compare = df.sample(5, random_state=123)[['text','tokens']].copy()\n",
        "sample_for_compare['stemmed'] = sample_for_compare['tokens'].apply(stem_tokens)\n",
        "sample_for_compare['lemmatized'] = sample_for_compare['tokens'].apply(lemma_tokens)\n",
        "\n",
        "# Display side-by-side table\n",
        "compare_df = sample_for_compare[['text','tokens','stemmed','lemmatized']].reset_index(drop=True)\n",
        "print(\"\\nStemming vs Lemmatization (5 samples):\")\n",
        "display(compare_df)"
      ],
      "metadata": {
        "colab": {
          "base_uri": "https://localhost:8080/",
          "height": 525
        },
        "id": "OH3ktE6zjBR2",
        "outputId": "5c0edebf-9a37-4b14-d652-940e7e2eab9c"
      },
      "execution_count": null,
      "outputs": [
        {
          "output_type": "stream",
          "name": "stdout",
          "text": [
            "\n",
            "Stemming vs Lemmatization (5 samples):\n"
          ]
        },
        {
          "output_type": "display_data",
          "data": {
            "text/plain": [
              "                                                text  \\\n",
              "0  They'd get annihilated by '01 Miami https://t....   \n",
              "1  So far: Iran lost her top-terrorist, inflicted...   \n",
              "2                                        Stretcher 😂   \n",
              "3  Rest and be thankful before the festive mayhem...   \n",
              "4  The sirens are blaring☢☣☢☣ https://t.co/iUArQN...   \n",
              "\n",
              "                                              tokens  \\\n",
              "0                   [theyd, get, annihilated, miami]   \n",
              "1  [far, iran, lost, topterrorist, inflicted, zer...   \n",
              "2                                        [stretcher]   \n",
              "3                  [rest, thankful, festive, mayhem]   \n",
              "4                                           [sirens]   \n",
              "\n",
              "                                             stemmed  \\\n",
              "0                       [theyd, get, annihil, miami]   \n",
              "1  [far, iran, lost, topterrorist, inflict, zero,...   \n",
              "2                                        [stretcher]   \n",
              "3                      [rest, thank, festiv, mayhem]   \n",
              "4                                            [siren]   \n",
              "\n",
              "                                          lemmatized  \n",
              "0                   [theyd, get, annihilated, miami]  \n",
              "1  [far, iran, lost, topterrorist, inflicted, zer...  \n",
              "2                                        [stretcher]  \n",
              "3                  [rest, thankful, festive, mayhem]  \n",
              "4                                            [siren]  "
            ],
            "text/html": [
              "\n",
              "  <div id=\"df-cc7d0011-795c-4622-9410-a642e958b015\" class=\"colab-df-container\">\n",
              "    <div>\n",
              "<style scoped>\n",
              "    .dataframe tbody tr th:only-of-type {\n",
              "        vertical-align: middle;\n",
              "    }\n",
              "\n",
              "    .dataframe tbody tr th {\n",
              "        vertical-align: top;\n",
              "    }\n",
              "\n",
              "    .dataframe thead th {\n",
              "        text-align: right;\n",
              "    }\n",
              "</style>\n",
              "<table border=\"1\" class=\"dataframe\">\n",
              "  <thead>\n",
              "    <tr style=\"text-align: right;\">\n",
              "      <th></th>\n",
              "      <th>text</th>\n",
              "      <th>tokens</th>\n",
              "      <th>stemmed</th>\n",
              "      <th>lemmatized</th>\n",
              "    </tr>\n",
              "  </thead>\n",
              "  <tbody>\n",
              "    <tr>\n",
              "      <th>0</th>\n",
              "      <td>They'd get annihilated by '01 Miami https://t....</td>\n",
              "      <td>[theyd, get, annihilated, miami]</td>\n",
              "      <td>[theyd, get, annihil, miami]</td>\n",
              "      <td>[theyd, get, annihilated, miami]</td>\n",
              "    </tr>\n",
              "    <tr>\n",
              "      <th>1</th>\n",
              "      <td>So far: Iran lost her top-terrorist, inflicted...</td>\n",
              "      <td>[far, iran, lost, topterrorist, inflicted, zer...</td>\n",
              "      <td>[far, iran, lost, topterrorist, inflict, zero,...</td>\n",
              "      <td>[far, iran, lost, topterrorist, inflicted, zer...</td>\n",
              "    </tr>\n",
              "    <tr>\n",
              "      <th>2</th>\n",
              "      <td>Stretcher 😂</td>\n",
              "      <td>[stretcher]</td>\n",
              "      <td>[stretcher]</td>\n",
              "      <td>[stretcher]</td>\n",
              "    </tr>\n",
              "    <tr>\n",
              "      <th>3</th>\n",
              "      <td>Rest and be thankful before the festive mayhem...</td>\n",
              "      <td>[rest, thankful, festive, mayhem]</td>\n",
              "      <td>[rest, thank, festiv, mayhem]</td>\n",
              "      <td>[rest, thankful, festive, mayhem]</td>\n",
              "    </tr>\n",
              "    <tr>\n",
              "      <th>4</th>\n",
              "      <td>The sirens are blaring☢☣☢☣ https://t.co/iUArQN...</td>\n",
              "      <td>[sirens]</td>\n",
              "      <td>[siren]</td>\n",
              "      <td>[siren]</td>\n",
              "    </tr>\n",
              "  </tbody>\n",
              "</table>\n",
              "</div>\n",
              "    <div class=\"colab-df-buttons\">\n",
              "\n",
              "  <div class=\"colab-df-container\">\n",
              "    <button class=\"colab-df-convert\" onclick=\"convertToInteractive('df-cc7d0011-795c-4622-9410-a642e958b015')\"\n",
              "            title=\"Convert this dataframe to an interactive table.\"\n",
              "            style=\"display:none;\">\n",
              "\n",
              "  <svg xmlns=\"http://www.w3.org/2000/svg\" height=\"24px\" viewBox=\"0 -960 960 960\">\n",
              "    <path d=\"M120-120v-720h720v720H120Zm60-500h600v-160H180v160Zm220 220h160v-160H400v160Zm0 220h160v-160H400v160ZM180-400h160v-160H180v160Zm440 0h160v-160H620v160ZM180-180h160v-160H180v160Zm440 0h160v-160H620v160Z\"/>\n",
              "  </svg>\n",
              "    </button>\n",
              "\n",
              "  <style>\n",
              "    .colab-df-container {\n",
              "      display:flex;\n",
              "      gap: 12px;\n",
              "    }\n",
              "\n",
              "    .colab-df-convert {\n",
              "      background-color: #E8F0FE;\n",
              "      border: none;\n",
              "      border-radius: 50%;\n",
              "      cursor: pointer;\n",
              "      display: none;\n",
              "      fill: #1967D2;\n",
              "      height: 32px;\n",
              "      padding: 0 0 0 0;\n",
              "      width: 32px;\n",
              "    }\n",
              "\n",
              "    .colab-df-convert:hover {\n",
              "      background-color: #E2EBFA;\n",
              "      box-shadow: 0px 1px 2px rgba(60, 64, 67, 0.3), 0px 1px 3px 1px rgba(60, 64, 67, 0.15);\n",
              "      fill: #174EA6;\n",
              "    }\n",
              "\n",
              "    .colab-df-buttons div {\n",
              "      margin-bottom: 4px;\n",
              "    }\n",
              "\n",
              "    [theme=dark] .colab-df-convert {\n",
              "      background-color: #3B4455;\n",
              "      fill: #D2E3FC;\n",
              "    }\n",
              "\n",
              "    [theme=dark] .colab-df-convert:hover {\n",
              "      background-color: #434B5C;\n",
              "      box-shadow: 0px 1px 3px 1px rgba(0, 0, 0, 0.15);\n",
              "      filter: drop-shadow(0px 1px 2px rgba(0, 0, 0, 0.3));\n",
              "      fill: #FFFFFF;\n",
              "    }\n",
              "  </style>\n",
              "\n",
              "    <script>\n",
              "      const buttonEl =\n",
              "        document.querySelector('#df-cc7d0011-795c-4622-9410-a642e958b015 button.colab-df-convert');\n",
              "      buttonEl.style.display =\n",
              "        google.colab.kernel.accessAllowed ? 'block' : 'none';\n",
              "\n",
              "      async function convertToInteractive(key) {\n",
              "        const element = document.querySelector('#df-cc7d0011-795c-4622-9410-a642e958b015');\n",
              "        const dataTable =\n",
              "          await google.colab.kernel.invokeFunction('convertToInteractive',\n",
              "                                                    [key], {});\n",
              "        if (!dataTable) return;\n",
              "\n",
              "        const docLinkHtml = 'Like what you see? Visit the ' +\n",
              "          '<a target=\"_blank\" href=https://colab.research.google.com/notebooks/data_table.ipynb>data table notebook</a>'\n",
              "          + ' to learn more about interactive tables.';\n",
              "        element.innerHTML = '';\n",
              "        dataTable['output_type'] = 'display_data';\n",
              "        await google.colab.output.renderOutput(dataTable, element);\n",
              "        const docLink = document.createElement('div');\n",
              "        docLink.innerHTML = docLinkHtml;\n",
              "        element.appendChild(docLink);\n",
              "      }\n",
              "    </script>\n",
              "  </div>\n",
              "\n",
              "\n",
              "    <div id=\"df-aa3041f0-f685-4d38-be91-1c381faa1d2d\">\n",
              "      <button class=\"colab-df-quickchart\" onclick=\"quickchart('df-aa3041f0-f685-4d38-be91-1c381faa1d2d')\"\n",
              "                title=\"Suggest charts\"\n",
              "                style=\"display:none;\">\n",
              "\n",
              "<svg xmlns=\"http://www.w3.org/2000/svg\" height=\"24px\"viewBox=\"0 0 24 24\"\n",
              "     width=\"24px\">\n",
              "    <g>\n",
              "        <path d=\"M19 3H5c-1.1 0-2 .9-2 2v14c0 1.1.9 2 2 2h14c1.1 0 2-.9 2-2V5c0-1.1-.9-2-2-2zM9 17H7v-7h2v7zm4 0h-2V7h2v10zm4 0h-2v-4h2v4z\"/>\n",
              "    </g>\n",
              "</svg>\n",
              "      </button>\n",
              "\n",
              "<style>\n",
              "  .colab-df-quickchart {\n",
              "      --bg-color: #E8F0FE;\n",
              "      --fill-color: #1967D2;\n",
              "      --hover-bg-color: #E2EBFA;\n",
              "      --hover-fill-color: #174EA6;\n",
              "      --disabled-fill-color: #AAA;\n",
              "      --disabled-bg-color: #DDD;\n",
              "  }\n",
              "\n",
              "  [theme=dark] .colab-df-quickchart {\n",
              "      --bg-color: #3B4455;\n",
              "      --fill-color: #D2E3FC;\n",
              "      --hover-bg-color: #434B5C;\n",
              "      --hover-fill-color: #FFFFFF;\n",
              "      --disabled-bg-color: #3B4455;\n",
              "      --disabled-fill-color: #666;\n",
              "  }\n",
              "\n",
              "  .colab-df-quickchart {\n",
              "    background-color: var(--bg-color);\n",
              "    border: none;\n",
              "    border-radius: 50%;\n",
              "    cursor: pointer;\n",
              "    display: none;\n",
              "    fill: var(--fill-color);\n",
              "    height: 32px;\n",
              "    padding: 0;\n",
              "    width: 32px;\n",
              "  }\n",
              "\n",
              "  .colab-df-quickchart:hover {\n",
              "    background-color: var(--hover-bg-color);\n",
              "    box-shadow: 0 1px 2px rgba(60, 64, 67, 0.3), 0 1px 3px 1px rgba(60, 64, 67, 0.15);\n",
              "    fill: var(--button-hover-fill-color);\n",
              "  }\n",
              "\n",
              "  .colab-df-quickchart-complete:disabled,\n",
              "  .colab-df-quickchart-complete:disabled:hover {\n",
              "    background-color: var(--disabled-bg-color);\n",
              "    fill: var(--disabled-fill-color);\n",
              "    box-shadow: none;\n",
              "  }\n",
              "\n",
              "  .colab-df-spinner {\n",
              "    border: 2px solid var(--fill-color);\n",
              "    border-color: transparent;\n",
              "    border-bottom-color: var(--fill-color);\n",
              "    animation:\n",
              "      spin 1s steps(1) infinite;\n",
              "  }\n",
              "\n",
              "  @keyframes spin {\n",
              "    0% {\n",
              "      border-color: transparent;\n",
              "      border-bottom-color: var(--fill-color);\n",
              "      border-left-color: var(--fill-color);\n",
              "    }\n",
              "    20% {\n",
              "      border-color: transparent;\n",
              "      border-left-color: var(--fill-color);\n",
              "      border-top-color: var(--fill-color);\n",
              "    }\n",
              "    30% {\n",
              "      border-color: transparent;\n",
              "      border-left-color: var(--fill-color);\n",
              "      border-top-color: var(--fill-color);\n",
              "      border-right-color: var(--fill-color);\n",
              "    }\n",
              "    40% {\n",
              "      border-color: transparent;\n",
              "      border-right-color: var(--fill-color);\n",
              "      border-top-color: var(--fill-color);\n",
              "    }\n",
              "    60% {\n",
              "      border-color: transparent;\n",
              "      border-right-color: var(--fill-color);\n",
              "    }\n",
              "    80% {\n",
              "      border-color: transparent;\n",
              "      border-right-color: var(--fill-color);\n",
              "      border-bottom-color: var(--fill-color);\n",
              "    }\n",
              "    90% {\n",
              "      border-color: transparent;\n",
              "      border-bottom-color: var(--fill-color);\n",
              "    }\n",
              "  }\n",
              "</style>\n",
              "\n",
              "      <script>\n",
              "        async function quickchart(key) {\n",
              "          const quickchartButtonEl =\n",
              "            document.querySelector('#' + key + ' button');\n",
              "          quickchartButtonEl.disabled = true;  // To prevent multiple clicks.\n",
              "          quickchartButtonEl.classList.add('colab-df-spinner');\n",
              "          try {\n",
              "            const charts = await google.colab.kernel.invokeFunction(\n",
              "                'suggestCharts', [key], {});\n",
              "          } catch (error) {\n",
              "            console.error('Error during call to suggestCharts:', error);\n",
              "          }\n",
              "          quickchartButtonEl.classList.remove('colab-df-spinner');\n",
              "          quickchartButtonEl.classList.add('colab-df-quickchart-complete');\n",
              "        }\n",
              "        (() => {\n",
              "          let quickchartButtonEl =\n",
              "            document.querySelector('#df-aa3041f0-f685-4d38-be91-1c381faa1d2d button');\n",
              "          quickchartButtonEl.style.display =\n",
              "            google.colab.kernel.accessAllowed ? 'block' : 'none';\n",
              "        })();\n",
              "      </script>\n",
              "    </div>\n",
              "\n",
              "  <div id=\"id_c55187fa-67ad-4c3a-b8c4-11f64ad92b9c\">\n",
              "    <style>\n",
              "      .colab-df-generate {\n",
              "        background-color: #E8F0FE;\n",
              "        border: none;\n",
              "        border-radius: 50%;\n",
              "        cursor: pointer;\n",
              "        display: none;\n",
              "        fill: #1967D2;\n",
              "        height: 32px;\n",
              "        padding: 0 0 0 0;\n",
              "        width: 32px;\n",
              "      }\n",
              "\n",
              "      .colab-df-generate:hover {\n",
              "        background-color: #E2EBFA;\n",
              "        box-shadow: 0px 1px 2px rgba(60, 64, 67, 0.3), 0px 1px 3px 1px rgba(60, 64, 67, 0.15);\n",
              "        fill: #174EA6;\n",
              "      }\n",
              "\n",
              "      [theme=dark] .colab-df-generate {\n",
              "        background-color: #3B4455;\n",
              "        fill: #D2E3FC;\n",
              "      }\n",
              "\n",
              "      [theme=dark] .colab-df-generate:hover {\n",
              "        background-color: #434B5C;\n",
              "        box-shadow: 0px 1px 3px 1px rgba(0, 0, 0, 0.15);\n",
              "        filter: drop-shadow(0px 1px 2px rgba(0, 0, 0, 0.3));\n",
              "        fill: #FFFFFF;\n",
              "      }\n",
              "    </style>\n",
              "    <button class=\"colab-df-generate\" onclick=\"generateWithVariable('compare_df')\"\n",
              "            title=\"Generate code using this dataframe.\"\n",
              "            style=\"display:none;\">\n",
              "\n",
              "  <svg xmlns=\"http://www.w3.org/2000/svg\" height=\"24px\"viewBox=\"0 0 24 24\"\n",
              "       width=\"24px\">\n",
              "    <path d=\"M7,19H8.4L18.45,9,17,7.55,7,17.6ZM5,21V16.75L18.45,3.32a2,2,0,0,1,2.83,0l1.4,1.43a1.91,1.91,0,0,1,.58,1.4,1.91,1.91,0,0,1-.58,1.4L9.25,21ZM18.45,9,17,7.55Zm-12,3A5.31,5.31,0,0,0,4.9,8.1,5.31,5.31,0,0,0,1,6.5,5.31,5.31,0,0,0,4.9,4.9,5.31,5.31,0,0,0,6.5,1,5.31,5.31,0,0,0,8.1,4.9,5.31,5.31,0,0,0,12,6.5,5.46,5.46,0,0,0,6.5,12Z\"/>\n",
              "  </svg>\n",
              "    </button>\n",
              "    <script>\n",
              "      (() => {\n",
              "      const buttonEl =\n",
              "        document.querySelector('#id_c55187fa-67ad-4c3a-b8c4-11f64ad92b9c button.colab-df-generate');\n",
              "      buttonEl.style.display =\n",
              "        google.colab.kernel.accessAllowed ? 'block' : 'none';\n",
              "\n",
              "      buttonEl.onclick = () => {\n",
              "        google.colab.notebook.generateWithVariable('compare_df');\n",
              "      }\n",
              "      })();\n",
              "    </script>\n",
              "  </div>\n",
              "\n",
              "    </div>\n",
              "  </div>\n"
            ],
            "application/vnd.google.colaboratory.intrinsic+json": {
              "type": "dataframe",
              "variable_name": "compare_df",
              "summary": "{\n  \"name\": \"compare_df\",\n  \"rows\": 5,\n  \"fields\": [\n    {\n      \"column\": \"text\",\n      \"properties\": {\n        \"dtype\": \"string\",\n        \"num_unique_values\": 5,\n        \"samples\": [\n          \"So far: Iran lost her top-terrorist, inflicted zero US or Iraqi casualties, backed down &amp; Trump deescalated. No WWIII happ\\u2026\",\n          \"The sirens are blaring\\u2622\\u2623\\u2622\\u2623 https://t.co/iUArQNn4sP\",\n          \"Stretcher \\ud83d\\ude02\"\n        ],\n        \"semantic_type\": \"\",\n        \"description\": \"\"\n      }\n    },\n    {\n      \"column\": \"tokens\",\n      \"properties\": {\n        \"dtype\": \"object\",\n        \"semantic_type\": \"\",\n        \"description\": \"\"\n      }\n    },\n    {\n      \"column\": \"stemmed\",\n      \"properties\": {\n        \"dtype\": \"object\",\n        \"semantic_type\": \"\",\n        \"description\": \"\"\n      }\n    },\n    {\n      \"column\": \"lemmatized\",\n      \"properties\": {\n        \"dtype\": \"object\",\n        \"semantic_type\": \"\",\n        \"description\": \"\"\n      }\n    }\n  ]\n}"
            }
          },
          "metadata": {}
        }
      ]
    },
    {
      "cell_type": "markdown",
      "source": [
        "Section C: Analysis & Summary\n",
        "Q4. Frequent Words Analysis"
      ],
      "metadata": {
        "id": "kBxnH0-Ejepq"
      }
    },
    {
      "cell_type": "code",
      "source": [
        "df_disaster = df[df['target']==1].copy() # Changed 'label' to 'target'\n",
        "df_disaster['lemmas'] = df_disaster['tokens'].apply(lemma_tokens)\n",
        "\n",
        "from collections import Counter\n",
        "all_lemmas_disaster = [w for toks in df_disaster['lemmas'] for w in toks]\n",
        "freq = Counter(all_lemmas_disaster).most_common(15)\n",
        "\n",
        "words, counts = zip(*freq) if freq else ([], [])\n",
        "plt.figure(figsize=(10,4))\n",
        "plt.bar(words, counts)\n",
        "plt.title('Top 15 Lemmatized Words (Disaster Tweets)')\n",
        "plt.ylabel('Frequency')\n",
        "plt.xticks(rotation=45, ha='right')\n",
        "plt.tight_layout()\n",
        "plt.show()"
      ],
      "metadata": {
        "colab": {
          "base_uri": "https://localhost:8080/",
          "height": 313
        },
        "id": "nKlfOy03jhZM",
        "outputId": "4294313c-037f-4ef0-d6ac-1752d658c654"
      },
      "execution_count": null,
      "outputs": [
        {
          "output_type": "display_data",
          "data": {
            "text/plain": [
              "<Figure size 1000x400 with 1 Axes>"
            ],
            "image/png": "[encoded data removed]"
          },
          "metadata": {}
        }
      ]
    },
    {
      "cell_type": "markdown",
      "source": [
        "Tweet Length Analysis"
      ],
      "metadata": {
        "id": "JJkwshzqjzLm"
      }
    },
    {
      "cell_type": "code",
      "source": [
        "df['len_raw_tokens'] = df['text'].astype(str).apply(lambda s: len(word_tokenize(s)))\n",
        "df['len_clean_tokens'] = df['tokens'].apply(len)\n",
        "\n",
        "avg_before = df['len_raw_tokens'].mean()\n",
        "avg_after  = df['len_clean_tokens'].mean()\n",
        "print(f\"Average tweet length BEFORE preprocessing: {avg_before:.2f} tokens\")\n",
        "print(f\"Average tweet length AFTER preprocessing:  {avg_after:.2f} tokens\")\n",
        "print(\"Preprocessing typically reduces noise by removing URLs, mentions, punctuation, and stopwords.\")\n"
      ],
      "metadata": {
        "colab": {
          "base_uri": "https://localhost:8080/"
        },
        "id": "ghCiBa13jynZ",
        "outputId": "b2e281c9-06ed-491d-bb6f-d129770f4bbe"
      },
      "execution_count": null,
      "outputs": [
        {
          "output_type": "stream",
          "name": "stdout",
          "text": [
            "Average tweet length BEFORE preprocessing: 20.78 tokens\n",
            "Average tweet length AFTER preprocessing:  8.81 tokens\n",
            "Preprocessing typically reduces noise by removing URLs, mentions, punctuation, and stopwords.\n"
          ]
        }
      ]
    },
    {
      "cell_type": "markdown",
      "source": [
        "Section D: Machine Learning Model\n",
        "\n",
        "Q6. TF-IDF Representation"
      ],
      "metadata": {
        "id": "lr6QvAxSj8Vu"
      }
    },
    {
      "cell_type": "code",
      "source": [
        "from sklearn.feature_extraction.text import TfidfVectorizer # Import TfidfVectorizer\n",
        "\n",
        "tfidf = TfidfVectorizer(max_features=5000, ngram_range=(1,2), min_df=2)\n",
        "X = tfidf.fit_transform(df['clean_text'])\n",
        "y = df['target'].values # Changed 'label' to 'target'"
      ],
      "metadata": {
        "id": "6gy2hClHj9KF"
      },
      "execution_count": null,
      "outputs": []
    },
    {
      "cell_type": "markdown",
      "source": [
        "Q7. Model Training"
      ],
      "metadata": {
        "id": "q3LPHVZJkNwU"
      }
    },
    {
      "cell_type": "code",
      "source": [
        "from sklearn.model_selection import train_test_split # Import train_test_split\n",
        "from sklearn.linear_model import LogisticRegression # Import LogisticRegression\n",
        "from sklearn.metrics import classification_report # Import classification_report\n",
        "\n",
        "X_train, X_test, y_train, y_test = train_test_split(\n",
        "    X, y, test_size=0.20, random_state=42, stratify=y\n",
        ")\n",
        "\n",
        "clf = LogisticRegression(max_iter=200, n_jobs=None)  # n_jobs not needed for LBFGS\n",
        "clf.fit(X_train, y_train)\n",
        "\n",
        "y_pred = clf.predict(X_test)\n",
        "\n",
        "print(\"\\nPerformance (Accuracy, Precision, Recall, F1):\")\n",
        "print(classification_report(y_test, y_pred, digits=3))"
      ],
      "metadata": {
        "colab": {
          "base_uri": "https://localhost:8080/"
        },
        "id": "rSb7URbLkLA8",
        "outputId": "ea06ee3a-d30d-4b6c-d0fb-9249859d366a"
      },
      "execution_count": null,
      "outputs": [
        {
          "output_type": "stream",
          "name": "stdout",
          "text": [
            "\n",
            "Performance (Accuracy, Precision, Recall, F1):\n",
            "              precision    recall  f1-score   support\n",
            "\n",
            "           0      0.875     0.988     0.928      1851\n",
            "           1      0.880     0.383     0.534       423\n",
            "\n",
            "    accuracy                          0.876      2274\n",
            "   macro avg      0.878     0.686     0.731      2274\n",
            "weighted avg      0.876     0.876     0.855      2274\n",
            "\n"
          ]
        }
      ]
    },
    {
      "cell_type": "markdown",
      "source": [
        "Q8. Results & Interpretation"
      ],
      "metadata": {
        "id": "1EDCICFMkdKJ"
      }
    },
    {
      "cell_type": "code",
      "source": [
        "from sklearn.metrics import confusion_matrix, ConfusionMatrixDisplay # Import confusion_matrix and ConfusionMatrixDisplay\n",
        "import sklearn.metrics as metrics # Import metrics\n",
        "\n",
        "cm = confusion_matrix(y_test, y_pred, labels=[0,1])\n",
        "disp = ConfusionMatrixDisplay(confusion_matrix=cm, display_labels=[0,1]) # Use ConfusionMatrixDisplay directly\n",
        "disp.plot(values_format='d')\n",
        "plt.title('Confusion Matrix (0=Irrelevant, 1=Disaster)')\n",
        "plt.tight_layout()\n",
        "plt.show()\n",
        "\n",
        "# Quick notes you can expand in the report:\n",
        "fp = cm[0,1]\n",
        "fn = cm[1,0]\n",
        "print(f\"False Positives (0→1): {fp}  |  False Negatives (1→0): {fn}\")"
      ],
      "metadata": {
        "colab": {
          "base_uri": "https://localhost:8080/",
          "height": 504
        },
        "id": "UNYX7zG0kfQA",
        "outputId": "0a4fdc01-977c-42a1-ce84-b2353db8157b"
      },
      "execution_count": null,
      "outputs": [
        {
          "output_type": "display_data",
          "data": {
            "text/plain": [
              "<Figure size 640x480 with 2 Axes>"
            ],
            "image/png": "[encoded data removed]"
          },
          "metadata": {}
        },
        {
          "output_type": "stream",
          "name": "stdout",
          "text": [
            "False Positives (0→1): 22  |  False Negatives (1→0): 261\n"
          ]
        }
      ]
    }
  ]
}