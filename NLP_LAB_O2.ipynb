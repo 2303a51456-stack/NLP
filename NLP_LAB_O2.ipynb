{
  "nbformat": 4,
  "nbformat_minor": 0,
  "metadata": {
    "colab": {
      "provenance": []
    },
    "kernelspec": {
      "name": "python3",
      "display_name": "Python 3"
    },
    "language_info": {
      "name": "python"
    }
  },
  "cells": [
    {
      "cell_type": "markdown",
      "source": [
        "# Q1: Load the data and clean text"
      ],
      "metadata": {
        "id": "NsweIf6Lm5Qn"
      }
    },
    {
      "cell_type": "code",
      "execution_count": null,
      "metadata": {
        "id": "ohXVz7wKlmm0"
      },
      "outputs": [],
      "source": [
        "import pandas as pd\n",
        "import re\n"
      ]
    },
    {
      "cell_type": "code",
      "source": [
        " df = pd.read_csv(\"/bbc_news.csv\")\n",
        "print(df.head())"
      ],
      "metadata": {
        "colab": {
          "base_uri": "https://localhost:8080/"
        },
        "id": "aUe2SJRGnFtV",
        "outputId": "f5bf6f6f-0a84-4f9c-9dae-d6e374cb9922"
      },
      "execution_count": null,
      "outputs": [
        {
          "output_type": "stream",
          "name": "stdout",
          "text": [
            "                                               title  \\\n",
            "0  Ukraine: Angry Zelensky vows to punish Russian...   \n",
            "1  War in Ukraine: Taking cover in a town under a...   \n",
            "2         Ukraine war 'catastrophic for global food'   \n",
            "3  Manchester Arena bombing: Saffie Roussos's par...   \n",
            "4  Ukraine conflict: Oil price soars to highest l...   \n",
            "\n",
            "                         pubDate  \\\n",
            "0  Mon, 07 Mar 2022 08:01:56 GMT   \n",
            "1  Sun, 06 Mar 2022 22:49:58 GMT   \n",
            "2  Mon, 07 Mar 2022 00:14:42 GMT   \n",
            "3  Mon, 07 Mar 2022 00:05:40 GMT   \n",
            "4  Mon, 07 Mar 2022 08:15:53 GMT   \n",
            "\n",
            "                                               guid  \\\n",
            "0  https://www.bbc.co.uk/news/world-europe-60638042   \n",
            "1  https://www.bbc.co.uk/news/world-europe-60641873   \n",
            "2      https://www.bbc.co.uk/news/business-60623941   \n",
            "3            https://www.bbc.co.uk/news/uk-60579079   \n",
            "4      https://www.bbc.co.uk/news/business-60642786   \n",
            "\n",
            "                                                link  \\\n",
            "0  https://www.bbc.co.uk/news/world-europe-606380...   \n",
            "1  https://www.bbc.co.uk/news/world-europe-606418...   \n",
            "2  https://www.bbc.co.uk/news/business-60623941?a...   \n",
            "3  https://www.bbc.co.uk/news/uk-60579079?at_medi...   \n",
            "4  https://www.bbc.co.uk/news/business-60642786?a...   \n",
            "\n",
            "                                         description  \n",
            "0  The Ukrainian president says the country will ...  \n",
            "1  Jeremy Bowen was on the frontline in Irpin, as...  \n",
            "2  One of the world's biggest fertiliser firms sa...  \n",
            "3  The parents of the Manchester Arena bombing's ...  \n",
            "4  Consumers are feeling the impact of higher ene...  \n"
          ]
        }
      ]
    },
    {
      "cell_type": "code",
      "source": [
        "texts = df[\"description\"].dropna().astype(str)"
      ],
      "metadata": {
        "id": "xO056iLZrsXN"
      },
      "execution_count": null,
      "outputs": []
    },
    {
      "cell_type": "code",
      "source": [
        "def clean_text(text):\n",
        "    text = text.lower()\n",
        "    text = re.sub(r'[^a-z\\s]', '', text)\n",
        "    text = re.sub(r'\\s+', ' ', text).strip()\n",
        "    return text\n",
        "cleaned_texts = texts.apply(clean_text)"
      ],
      "metadata": {
        "id": "CytXNmjtnFwO"
      },
      "execution_count": null,
      "outputs": []
    },
    {
      "cell_type": "markdown",
      "source": [
        "Use NLTK or Spacy:"
      ],
      "metadata": {
        "id": "FOF4ksoYssbm"
      }
    },
    {
      "cell_type": "code",
      "source": [
        "import nltk\n",
        "import spacy\n",
        "from collections import Counter\n",
        "from nltk.stem import PorterStemmer"
      ],
      "metadata": {
        "id": "ivjHSMw-swTO"
      },
      "execution_count": null,
      "outputs": []
    },
    {
      "cell_type": "code",
      "source": [
        "nltk.download(\"punkt\")\n",
        "nltk.download(\"punkt_tab\")\n",
        "nltk.download(\"stopwords\")"
      ],
      "metadata": {
        "colab": {
          "base_uri": "https://localhost:8080/"
        },
        "id": "bK0f7VO0tIX-",
        "outputId": "571ff376-b618-4c5c-fecf-a289be8dd367"
      },
      "execution_count": null,
      "outputs": [
        {
          "output_type": "stream",
          "name": "stderr",
          "text": [
            "[nltk_data] Downloading package punkt to /root/nltk_data...\n",
            "[nltk_data]   Unzipping tokenizers/punkt.zip.\n",
            "[nltk_data] Downloading package punkt_tab to /root/nltk_data...\n",
            "[nltk_data]   Unzipping tokenizers/punkt_tab.zip.\n",
            "[nltk_data] Downloading package stopwords to /root/nltk_data...\n",
            "[nltk_data]   Unzipping corpora/stopwords.zip.\n"
          ]
        },
        {
          "output_type": "execute_result",
          "data": {
            "text/plain": [
              "True"
            ]
          },
          "metadata": {},
          "execution_count": 11
        }
      ]
    },
    {
      "cell_type": "code",
      "source": [
        "nlp = spacy.load(\"en_core_web_sm\")\n",
        "tokens = []\n",
        "for doc in nlp.pipe(cleaned_texts, disable=[\"ner\", \"parser\"]):\n",
        "    words = [token.text for token in doc if not token.is_stop and token.is_alpha and len(token.text) > 2]\n",
        "    tokens.extend(words)"
      ],
      "metadata": {
        "id": "Bb28J319tIar"
      },
      "execution_count": null,
      "outputs": []
    },
    {
      "cell_type": "code",
      "source": [
        "freq_dist = Counter(tokens)\n",
        "print(freq_dist.most_common(10))"
      ],
      "metadata": {
        "colab": {
          "base_uri": "https://localhost:8080/"
        },
        "id": "jH6edGZytIdc",
        "outputId": "9770503a-0ecf-48ce-e910-65434f5b6da9"
      },
      "execution_count": null,
      "outputs": [
        {
          "output_type": "stream",
          "name": "stdout",
          "text": [
            "[('says', 4561), ('world', 2030), ('bbc', 2011), ('people', 1989), ('england', 1922), ('new', 1894), ('cup', 1486), ('league', 1321), ('years', 1308), ('win', 1212)]\n"
          ]
        }
      ]
    },
    {
      "cell_type": "code",
      "source": [
        "# Load spacy English model\n",
        "nlp = spacy.load(\"en_core_web_sm\")\n",
        "# Initialize stemmer\n",
        "stemmer = PorterStemmer()\n",
        "lemmas = []\n",
        "stems = []\n",
        "for doc in nlp.pipe(cleaned_texts, disable=[\"ner\", \"parser\"]):\n",
        "    for token in doc:\n",
        "        if not token.is_stop and token.is_alpha and len(token.text) > 2:\n",
        "            lemmas.append(token.lemma_)\n",
        "            stems.append(stemmer.stem(token.text))"
      ],
      "metadata": {
        "id": "ahSvJY3Xt1wY"
      },
      "execution_count": null,
      "outputs": []
    },
    {
      "cell_type": "code",
      "source": [
        "# Count top 10 frequent lemmas\n",
        "lemma_freq = Counter(lemmas)\n",
        "print(\"Top 10 frequent lemmas (spaCy):\")\n",
        "print(lemma_freq.most_common(10))"
      ],
      "metadata": {
        "colab": {
          "base_uri": "https://localhost:8080/"
        },
        "id": "vN33-bkUt10N",
        "outputId": "77b25ae6-d865-4163-9ce9-e15f1f655397"
      },
      "execution_count": null,
      "outputs": [
        {
          "output_type": "stream",
          "name": "stdout",
          "text": [
            "Top 10 frequent lemmas (spaCy):\n",
            "[('say', 5463), ('england', 2313), ('year', 2250), ('world', 2170), ('bbc', 2026), ('people', 2021), ('win', 1918), ('new', 1898), ('cup', 1501), ('day', 1500)]\n"
          ]
        }
      ]
    },
    {
      "cell_type": "code",
      "source": [
        "# Count top 10 frequent stems\n",
        "stem_freq = Counter(stems)\n",
        "print(\"Top 10 frequent stems (NLTK stemming):\")\n",
        "print(stem_freq.most_common(10))"
      ],
      "metadata": {
        "colab": {
          "base_uri": "https://localhost:8080/"
        },
        "id": "pfIQt0OIufHM",
        "outputId": "e193afb5-735c-436b-a4c4-203e65b07b5b"
      },
      "execution_count": null,
      "outputs": [
        {
          "output_type": "stream",
          "name": "stdout",
          "text": [
            "Top 10 frequent stems (NLTK stemming):\n",
            "[('say', 4721), ('bbc', 2408), ('england', 2338), ('year', 2251), ('world', 2170), ('peopl', 2021), ('new', 1894), ('win', 1747), ('cup', 1502), ('day', 1500)]\n"
          ]
        }
      ]
    }
  ]
}